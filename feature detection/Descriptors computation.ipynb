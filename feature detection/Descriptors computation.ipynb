{
 "cells": [
  {
   "cell_type": "markdown",
   "metadata": {},
   "source": [
    "# Calcul du descripteur de Moravec"
   ]
  },
  {
   "cell_type": "code",
   "execution_count": 23,
   "metadata": {},
   "outputs": [],
   "source": [
    "import cv2 \n",
    "import numpy as np \n",
    "from scipy import ndimage\n",
    "from matplotlib import pyplot as plt"
   ]
  },
  {
   "cell_type": "code",
   "execution_count": 14,
   "metadata": {},
   "outputs": [],
   "source": [
    "image = cv2.imread(\"chess.jpg\",0)\n",
    "CorrectnessMap=np.zeros(image.shape)\n",
    "deplacements=[(1, 0), (1, 1), (0, 1), (-1, 1),(-1,0),(-1,-1),(0,-1)]\n",
    "\n",
    "def moravec(image, seuil):\n",
    "    points = []\n",
    "    for x in range(2,image.shape[0]-2):\n",
    "        for y in range(2,image.shape[1]-2):            \n",
    "            mini = 4080 # max is 255*255*8 = 4080\n",
    "            for dep in deplacements:\n",
    "                var = np.sum((image[x-1+dep[0]:x+1+ dep[0],y-1+ dep[1]:y+1+ dep[1]]-image[x-1:x+1,y-1:y+1])**2)\n",
    "                if var < mini :\n",
    "                    mini = var\n",
    "                    #print(mini)\n",
    "            if mini > seuil:\n",
    "                points.append((x, y))\n",
    "    return points    \n",
    "p=[]\n",
    "p=moravec(image,1)"
   ]
  },
  {
   "cell_type": "code",
   "execution_count": 15,
   "metadata": {},
   "outputs": [
    {
     "data": {
      "text/plain": [
       "<matplotlib.image.AxesImage at 0x1ce28aa2e50>"
      ]
     },
     "execution_count": 15,
     "metadata": {},
     "output_type": "execute_result"
    },
    {
     "data": {
      "image/png": "[encoded data removed]",
      "text/plain": [
       "<Figure size 432x288 with 1 Axes>"
      ]
     },
     "metadata": {
      "needs_background": "light"
     },
     "output_type": "display_data"
    }
   ],
   "source": [
    "#l'affichage des points \n",
    "imageOut = cv2.imread(\"chess.jpg\")\n",
    "for point in p:\n",
    "       for x in range(-1, 2):\n",
    "        for y in range(-1, 2):\n",
    "            imageOut[point[0]+x, point[1]+y,0:3]= [255,0,0]\n",
    "plt.imshow(imageOut,cmap='gray')"
   ]
  },
  {
   "cell_type": "code",
   "execution_count": 24,
   "metadata": {},
   "outputs": [
    {
     "name": "stderr",
     "output_type": "stream",
     "text": [
      "<ipython-input-24-8baa5726b69a>:86: RuntimeWarning: overflow encountered in ubyte_scalars\n",
      "  if dx[x][y]*dy[x][y] - (dxy[x][y]**2) > 0 :\n",
      "<ipython-input-24-8baa5726b69a>:87: RuntimeWarning: overflow encountered in ubyte_scalars\n",
      "  det[x][y] = dx[x][y]*dy[x][y] - (dxy[x][y]**2)\n",
      "<ipython-input-24-8baa5726b69a>:94: RuntimeWarning: overflow encountered in ubyte_scalars\n",
      "  if dx[x][y]*dy[x][y] - (dxy[x][y]**2) > 200 :\n",
      "<ipython-input-24-8baa5726b69a>:95: RuntimeWarning: overflow encountered in ubyte_scalars\n",
      "  poi[x][y]=dx[x][y]*dy[x][y] - (dxy[x][y]**2)\n"
     ]
    }
   ],
   "source": [
    "# Hessian algorithm\n",
    "\n",
    "import cv2\n",
    "import numpy as np\n",
    "from matplotlib import pyplot as plt\n",
    "from scipy import ndimage\n",
    "import sys\n",
    "\n",
    "\n",
    "img=cv2.imread('chess.jpg')\n",
    "im=cv2.cvtColor(img,cv2.COLOR_BGR2GRAY)\n",
    "w,h =img.shape[0],img.shape[1]\n",
    "'''\n",
    "dx = np.zeros(img.shape,dtype=np.uint8)\n",
    "for x in range(w):\n",
    "    for y in range(h-1):\n",
    "        dx[x][y]=abs(img[x][y+1]-img[x][y-1])\n",
    "\n",
    "dy = np.zeros(img.shape,dtype=np.uint8)\n",
    "for y in range(1,h):\n",
    "    for x in range(1,w-1):\n",
    "        dy[x][y]=abs(img[x+1][y]-img[x-1][y])\n",
    "'''\n",
    "\n",
    "def ourConvolve(image, kernel):\n",
    "# grab the spatial dimensions of the image, along with\n",
    "# the spatial dimensions of the kernel\n",
    "    (iH, iW) = image.shape[:2]\n",
    "    (kH, kW) = kernel.shape[:2]\n",
    "# add borders of size kernel/2\n",
    "    pad = (kW - 1) // 2\n",
    "    image = cv2.copyMakeBorder(image, pad, pad, pad, pad,cv2.BORDER_REPLICATE)\n",
    "    output = np.zeros((iH, iW), dtype=\"float32\")\n",
    "# loop over the input image, \"sliding\" the kernel across\n",
    "# each (x, y)-coordinate from left-to-right and top to\n",
    "# bottom\n",
    "    for y in np.arange(pad, iH + pad):\n",
    "       for x in np.arange(pad, iW + pad):\n",
    "    # perform the actual convolution by taking the\n",
    "    # element-wise multiplicate between the ROI and\n",
    "    # the kernel, then summing the matrix\n",
    "        k = (image[y - pad:y + pad + 1, x - pad:x + pad + 1] * kernel).sum()\n",
    "    # store the convolved value in the output (x,y)-\n",
    "    # coordinate of the output image\n",
    "        output[y - pad, x - pad] = k\n",
    "    41\n",
    "    # rescale the output image to be in the range [0, 255]\n",
    "   # I2b=cv2.equalizeHist(I[:,:,0])\n",
    "    output = rescale_intensity(output, in_range=(0, 255))\n",
    "    output = (output * 255).astype(\"uint8\")\n",
    "    # return the output image\n",
    "    return output\n",
    "\n",
    "x = np.array((       #dérivée seconde en utilisant sobelX x2 comme resultat on obtien ce filrte x pout Ixx y pour Iyy\n",
    "[0, 0, 0],\n",
    "[1, -2, 1],\n",
    "[0, 0, 0]), dtype=\"int\")\n",
    "\n",
    "y = np.array((\n",
    "[0, 1, 0],\n",
    "[0, -2, 0],\n",
    "[0, 1, 0]), dtype=\"int\")\n",
    "\n",
    "xy = np.array((        #sobelX * sobelY produit une matrice 5x5 dont sont equivalent en 3x3 est xy puis yx\n",
    "[1, -2, 1],\n",
    "[2, -4, 2],\n",
    "[1, -2, 1]), dtype=\"int\")\n",
    "\n",
    "yx = np.array((\n",
    "[1, 0, -1],\n",
    "[0, 0, 0],\n",
    "[-1, 0, 1]), dtype=\"int\")\n",
    "\n",
    "\n",
    "from skimage.exposure import rescale_intensity\n",
    "dx = ourConvolve(im, x)\n",
    "dy = ourConvolve(im, y)\n",
    "\n",
    "dxy = ourConvolve(im, xy)\n",
    "dxy = ourConvolve(dxy, yx)\n",
    "\n",
    "det=np.zeros(img.shape,dtype=np.int)\n",
    "for x in range(w):\n",
    "    for y in range(h):\n",
    "     \n",
    "        if dx[x][y]*dy[x][y] - (dxy[x][y]**2) > 0 :\n",
    "            det[x][y] = dx[x][y]*dy[x][y] - (dxy[x][y]**2) \n",
    "        else :\n",
    "            det[x][y] = 0\n",
    "\n",
    "poi=np.zeros(img.shape,dtype=np.int)\n",
    "for x in range(w):\n",
    "    for y in range(h):     \n",
    "        if dx[x][y]*dy[x][y] - (dxy[x][y]**2) > 200 :\n",
    "            poi[x][y]=dx[x][y]*dy[x][y] - (dxy[x][y]**2)\n",
    "            cv2.circle(img,(y,x), 2, (0,255,0), -1)\n",
    "        else :\n",
    "            poi[x][y] = 0\n",
    "\n",
    "\n",
    "\n",
    "cv2.imshow('dx',dx)\n",
    "cv2.imshow('dy',dy)\n",
    "cv2.imshow('dxy',dxy)\n",
    "cv2.imshow('determinant de coins',np.uint8(det))\n",
    "cv2.imshow('determinant de points d\"interet avec sueil',np.uint8(poi))\n",
    "cv2.imshow('les points clé',img)\n",
    "cv2.waitKey(0)\n",
    "cv2.destroyAllWindows()\n"
   ]
  },
  {
   "cell_type": "code",
   "execution_count": 1,
   "metadata": {},
   "outputs": [],
   "source": [
    "# Harris\n",
    "\n",
    "import matplotlib.pyplot as plt\n",
    "import numpy as np\n",
    "import cv2 as cv\n",
    "from scipy import ndimage as ndi\n",
    "from scipy import signal as sig\n",
    "from skimage.feature import corner_peaks"
   ]
  },
  {
   "cell_type": "code",
   "execution_count": 2,
   "metadata": {},
   "outputs": [],
   "source": [
    "image = cv.imread('chess.jpg')  #l'image à lire\n",
    "gray = cv.cvtColor(image,cv.COLOR_BGR2GRAY)"
   ]
  },
  {
   "cell_type": "code",
   "execution_count": 3,
   "metadata": {},
   "outputs": [],
   "source": [
    "#fonction de gradient sur l'axe X et Y (convolution avec masque de sobel)\n",
    "def gradX(img):  \n",
    "    sobel_x = np.array([[-1, 0, 1],\n",
    "                         [-2, 0, 2],\n",
    "                         [-1, 0, 1]])\n",
    "    return sig.convolve2d(img,sobel_x, mode='same')\n",
    "\n",
    "def gradY(img):\n",
    "    sobel_y = np.array([[-1, -2, -1], \n",
    "                         [0, 0, 0], \n",
    "                         [1, 2, 1]])\n",
    "\n",
    "    return sig.convolve2d(img,sobel_y, mode='same')"
   ]
  },
  {
   "cell_type": "code",
   "execution_count": 4,
   "metadata": {},
   "outputs": [],
   "source": [
    "x = gradX(gray)    #gradient sur X"
   ]
  },
  {
   "cell_type": "code",
   "execution_count": 5,
   "metadata": {},
   "outputs": [],
   "source": [
    "y = gradY(gray)    #gradient sur Y"
   ]
  },
  {
   "cell_type": "code",
   "execution_count": 6,
   "metadata": {},
   "outputs": [],
   "source": [
    "#pour flouter \n",
    "xx = ndi.gaussian_filter(x**2, sigma=1)\n",
    "xy = ndi.gaussian_filter(y*x, sigma=1)\n",
    "yy = ndi.gaussian_filter(y**2, sigma=1)"
   ]
  },
  {
   "cell_type": "code",
   "execution_count": 7,
   "metadata": {},
   "outputs": [],
   "source": [
    "k = 0.05   #constante k\n",
    "det = xx*yy - xy**2  #déterminant de la matrice 2*2 pour chaque pixel\n"
   ]
  },
  {
   "cell_type": "code",
   "execution_count": 8,
   "metadata": {},
   "outputs": [],
   "source": [
    "trace = xx + yy  #trace\n",
    "    \n",
    "harris = det - (k * (trace ** 2))  "
   ]
  },
  {
   "cell_type": "code",
   "execution_count": 9,
   "metadata": {},
   "outputs": [],
   "source": [
    "coins = corner_peaks(harris) #trouver les valeurs max"
   ]
  },
  {
   "cell_type": "code",
   "execution_count": 10,
   "metadata": {},
   "outputs": [
    {
     "data": {
      "image/png": "[encoded data removed]",
      "text/plain": [
       "<Figure size 1080x360 with 3 Axes>"
      ]
     },
     "metadata": {
      "needs_background": "light"
     },
     "output_type": "display_data"
    }
   ],
   "source": [
    "fig, f = plt.subplots(nrows=1, ncols=3, figsize=(15,5))\n",
    "f[0].set_title(\"image\")\n",
    "f[0].imshow(image)\n",
    "f[1].set_title(\"harris\")\n",
    "f[1].imshow(harris,cmap=\"gray\")\n",
    "f[2].set_title(\"coins\")\n",
    "f[2].imshow(image, interpolation='nearest', cmap=plt.cm.gray)\n",
    "f[2].plot(coins[:, 1], coins[:, 0], '.r', markersize=3)\n",
    "plt.show()"
   ]
  },
  {
   "cell_type": "markdown",
   "metadata": {},
   "source": [
    "# Utilisation d'OpenCV pour le calcul de Harris :\n",
    "\n",
    "img - image en entrée (en niveau de gris et de typefloat32 ) //\n",
    "blockSize - la taille de la fenetre de voisinage //\n",
    "ksize - utilisé pour calculer la derivé de Soble //\n",
    "k - parametre de Harris detector\n",
    "\n"
   ]
  },
  {
   "cell_type": "code",
   "execution_count": null,
   "metadata": {},
   "outputs": [],
   "source": [
    "import cv2\n",
    "import numpy as np\n",
    "\n",
    "filename = 'chess.jpg'\n",
    "img = cv2.imread(filename)\n",
    "gray = cv2.cvtColor(img,cv2.COLOR_BGR2GRAY)\n",
    "\n",
    "gray = np.float32(gray)\n",
    "dst = cv2.cornerHarris(gray,2,3,0.04)\n",
    "\n",
    "#result is dilated for marking the corners, not important\n",
    "dst = cv2.dilate(dst,None)\n",
    "\n",
    "# Threshold for an optimal value, it may vary depending on the image.\n",
    "img[dst>0.01*dst.max()]=[0,0,255]\n",
    "\n",
    "cv2.imshow('dst',img)\n",
    "if cv2.waitKey(0) & 0xff == 27:\n",
    "    cv2.destroyAllWindows()"
   ]
  },
  {
   "cell_type": "markdown",
   "metadata": {},
   "source": [
    "# Utilisation de skimage pour le calcul de Harris :\n",
    "\n",
    "img - image en entrée (en niveau de gris et de typefloat32 ) // blockSize - la taille de la fenetre de voisinage // ksize - utilisé pour calculer la derivé de Soble // k - parametre de Harris detector\n"
   ]
  },
  {
   "cell_type": "code",
   "execution_count": 16,
   "metadata": {},
   "outputs": [],
   "source": [
    "from skimage.feature import corner_harris\n",
    "image = cv.imread('chess.jpg')\n",
    "gray = cv.cvtColor(image,cv.COLOR_BGR2GRAY)\n",
    "im=corner_harris(gray)"
   ]
  },
  {
   "cell_type": "code",
   "execution_count": 20,
   "metadata": {},
   "outputs": [
    {
     "data": {
      "text/plain": [
       "<matplotlib.image.AxesImage at 0x24800c76a60>"
      ]
     },
     "execution_count": 20,
     "metadata": {},
     "output_type": "execute_result"
    },
    {
     "data": {
      "image/png": "[encoded data removed]",
      "text/plain": [
       "<Figure size 432x288 with 1 Axes>"
      ]
     },
     "metadata": {
      "needs_background": "light"
     },
     "output_type": "display_data"
    }
   ],
   "source": [
    "plt.imshow(im, cmap=plt.cm.gray)"
   ]
  },
  {
   "cell_type": "code",
   "execution_count": 22,
   "metadata": {},
   "outputs": [
    {
     "data": {
      "text/plain": [
       "<matplotlib.image.AxesImage at 0x24801262610>"
      ]
     },
     "execution_count": 22,
     "metadata": {},
     "output_type": "execute_result"
    },
    {
     "data": {
      "image/png": "[encoded data removed]",
      "text/plain": [
       "<Figure size 432x288 with 1 Axes>"
      ]
     },
     "metadata": {
      "needs_background": "light"
     },
     "output_type": "display_data"
    }
   ],
   "source": [
    "coins = corner_peaks(im, min_distance=1)\n",
    "plt.imshow(coins, cmap=plt.cm.gray)"
   ]
  },
  {
   "cell_type": "code",
   "execution_count": null,
   "metadata": {},
   "outputs": [],
   "source": []
  }
 ],
 "metadata": {
  "kernelspec": {
   "display_name": "Python 3",
   "language": "python",
   "name": "python3"
  },
  "language_info": {
   "codemirror_mode": {
    "name": "ipython",
    "version": 3
   },
   "file_extension": ".py",
   "mimetype": "text/x-python",
   "name": "python",
   "nbconvert_exporter": "python",
   "pygments_lexer": "ipython3",
   "version": "3.9.1"
  }
 },
 "nbformat": 4,
 "nbformat_minor": 4
}
