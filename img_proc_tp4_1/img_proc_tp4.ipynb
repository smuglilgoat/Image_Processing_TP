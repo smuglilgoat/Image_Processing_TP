{
 "metadata": {
  "language_info": {
   "codemirror_mode": {
    "name": "ipython",
    "version": 3
   },
   "file_extension": ".py",
   "mimetype": "text/x-python",
   "name": "python",
   "nbconvert_exporter": "python",
   "pygments_lexer": "ipython3",
   "version": "3.8.5-final"
  },
  "orig_nbformat": 2,
  "kernelspec": {
   "name": "python3",
   "display_name": "Python 3.8.5 64-bit ('image_processing': conda)",
   "metadata": {
    "interpreter": {
     "hash": "844e7337ef2a5fe312eee3dbf3808e6eb56f4aac55c639d848bd73dd237b505a"
    }
   }
  }
 },
 "nbformat": 4,
 "nbformat_minor": 2,
 "cells": [
  {
   "cell_type": "code",
   "execution_count": 9,
   "metadata": {},
   "outputs": [
    {
     "output_type": "execute_result",
     "data": {
      "text/plain": [
       "<matplotlib.image.AxesImage at 0x2194a4914c0>"
      ]
     },
     "metadata": {},
     "execution_count": 9
    }
   ],
   "source": [
    "import numpy as np\n",
    "import cv2 as cv\n",
    "import matplotlib.pyplot as plt\n",
    "img = cv.imread('car.jpg',0)\n",
    "plt.imshow(img)"
   ]
  },
  {
   "cell_type": "code",
   "execution_count": 10,
   "metadata": {},
   "outputs": [],
   "source": [
    "ret,thresh1 = cv.threshold(img,127,255,cv.THRESH_BINARY)\n",
    "ret,thresh2 = cv.threshold(img,127,255,cv.THRESH_BINARY_INV)\n",
    "ret,thresh3 = cv.threshold(img,127,255,cv.THRESH_TRUNC)\n",
    "ret,thresh4 = cv.threshold(img,127,255,cv.THRESH_TOZERO)\n",
    "ret,thresh5 = cv.threshold(img,127,255,cv.THRESH_TOZERO_INV)\n",
    "titles = ['Original Image','BINARY','BINARY_INV','TRUNC','TOZERO','TOZERO_INV']\n",
    "images = [img, thresh1, thresh2, thresh3, thresh4, thresh5]\n",
    "for i in range(6):\n",
    "    plt.subplot(2,3,i+1),plt.imshow(images[i],'gray',vmin=0,vmax=255)\n",
    "    plt.title(titles[i])\n",
    "    plt.xticks([]),plt.yticks([])"
   ]
  },
  {
   "cell_type": "code",
   "execution_count": 11,
   "metadata": {},
   "outputs": [],
   "source": [
    "img = cv.imread('car.jpg',0)\n",
    "# globalthresholding\n",
    "ret1,th1 = cv.threshold(img,127,255,cv.THRESH_BINARY)\n",
    "# Otsu's thresholding\n",
    "ret2,th2 = cv.threshold(img,0,255,cv.THRESH_BINARY+cv.THRESH_OTSU)\n",
    "# Otsu's thresholding after Gaussian filtering\n",
    "blur = cv.GaussianBlur(img,(5,5),0)\n",
    "ret3,th3 = cv.threshold(img,0,255,cv.THRESH_BINARY+cv.THRESH_OTSU)\n",
    "# plot all the images and their histograms\n",
    "images = [img, 0, th1,img, 0, th2,blur, 0, th3]\n",
    "titles = ['Original Noisy Image','Histogram','GlobalThresholding (v=127)','Original Noisy Image','Histogram',\"Otsu'sThresholding\",'Gaussian filtered Image','Histogram',\"Otsu'sThresholding\"]\n",
    "for i in range(3):\n",
    "    plt.subplot(3,3,i*3+1),plt.imshow(images[i*3],'gray')\n",
    "    plt.title(titles[i*3]), plt.xticks([]), plt.yticks([])\n",
    "    plt.subplot(3,3,i*3+2),plt.hist(images[i*3].ravel(),256)\n",
    "    plt.title(titles[i*3+1]), plt.xticks([]), plt.yticks([])\n",
    "    plt.subplot(3,3,i*3+3),plt.imshow(images[i*3+2],'gray')\n",
    "    plt.title(titles[i*3+2]), plt.xticks([]), plt.yticks([])\n",
    "    plt.show()"
   ]
  },
  {
   "cell_type": "code",
   "execution_count": 18,
   "metadata": {},
   "outputs": [
    {
     "output_type": "stream",
     "name": "stdout",
     "text": [
      "Using matplotlib backend: Qt5Agg\n"
     ]
    }
   ],
   "source": [
    "from __future__ import print_function\n",
    "import random as rng\n",
    "%matplotlib\n",
    "\n",
    "def display(pic,cmap='gray'):\n",
    "    fig = plt.figure(figsize=(12,10))\n",
    "    myplot = fig.add_subplot(111)\n",
    "    myplot.imshow(pic,cmap='gray')\n",
    "\n",
    "img = cv.imread('apple.jpg')\n",
    "#img.shape\n",
    "plt.imshow(img)\n",
    "display(img)"
   ]
  },
  {
   "cell_type": "code",
   "execution_count": 19,
   "metadata": {},
   "outputs": [
    {
     "output_type": "stream",
     "name": "stdout",
     "text": [
      "77\n"
     ]
    }
   ],
   "source": [
    "threshold =100\n",
    "canny_output = cv.Canny(img, threshold, threshold * 2)\n",
    "contours, hierarchy = cv.findContours(canny_output, cv.RETR_EXTERNAL, cv.CHAIN_APPROX_SIMPLE)\n",
    "print(len(contours))"
   ]
  },
  {
   "cell_type": "code",
   "execution_count": 20,
   "metadata": {},
   "outputs": [
    {
     "output_type": "stream",
     "name": "stdout",
     "text": [
      "1 (48.7092, 60.5612, 146.4984, 0.0)\n2 (40.26181474480151, 45.071833648393195, 139.21975425330814, 0.0)\n3 (22.143351800554015, 86.29639889196676, 196.851108033241, 0.0)\n4 (24.68770545693623, 71.991452991453, 170.8717948717949, 0.0)\n5 (48.02634297520661, 50.107438016528924, 134.42355371900828, 0.0)\n6 (106.87244897959182, 103.93877551020407, 192.70918367346937, 0.0)\n7 (61.583333333333336, 66.00963718820861, 176.04251700680274, 0.0)\n8 (49.398891966759, 66.90927977839335, 192.1814404432133, 0.0)\n9 (21.15509259259259, 93.62808641975307, 201.55787037037035, 0.0)\n"
     ]
    }
   ],
   "source": [
    "count=0\n",
    "font = cv.FONT_HERSHEY_SIMPLEX\n",
    "for c in contours:\n",
    "    x,y,w,h = cv.boundingRect(c)\n",
    "    if (w >20 and h >20):\n",
    "        count = count+1\n",
    "        ROI = img[y+int(h/4):y+int(3*h/4), x+int(h/4):x+int(3*h/4)]\n",
    "        ROI_meancolor =cv.mean(ROI)\n",
    "        print(count,ROI_meancolor)\n",
    "        if (ROI_meancolor[0] > 20 \n",
    "        and ROI_meancolor[0] < 30\n",
    "            \n",
    "        and ROI_meancolor[1] > 70 \n",
    "        and ROI_meancolor[1] < 95 \n",
    "            \n",
    "        and ROI_meancolor[2] > 170 \n",
    "        and ROI_meancolor[2] < 202):\n",
    "            cv.putText(img, 'orange', (x-2, y-2), font, 0.8, (255,255,255), 2, cv.LINE_AA)\n",
    "            cv.rectangle(img,(x,y),(x+w,y+h),(255,255,255),3)\n",
    "            cv.imshow('Contours', img)\n",
    "        else:\n",
    "            cv.putText(img, 'apple', (x-2, y-2), font, 0.8, (0,0,255), 2, cv.LINE_AA)\n",
    "            cv.rectangle(img,(x,y),(x+w,y+h),(0,0,255),3)\n",
    "            cv.imshow('Contours', img)"
   ]
  },
  {
   "cell_type": "code",
   "execution_count": 21,
   "metadata": {},
   "outputs": [],
   "source": [
    "from skimage.feature import hog\n",
    "from skimage import data, exposure\n",
    "fruit, hog_image = hog(img, orientations=8, pixels_per_cell=(16, 16),cells_per_block=(1, 1), visualize=True, multichannel=True)\n",
    "hog_image_rescaled = exposure.rescale_intensity(hog_image, in_range=(0, 10))\n",
    "cv.imshow('HOG_image', hog_image_rescaled)\n",
    "cv.imshow('HOG_image', hog_image_rescaled)"
   ]
  }
 ]
}